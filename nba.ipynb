# 1. Imports
import pandas as pd
import matplotlib.pyplot as plt
import seaborn as sns
from sklearn.preprocessing import StandardScaler
from sklearn.decomposition import PCA
from sklearn.cluster import KMeans, AgglomerativeClustering
from scipy.cluster.hierarchy import dendrogram, linkage

# 2. Load Data (upload file locally or use path to CSV)
df = pd.read_csv("nba_players_stats.csv")  # change filename as needed

# 3. Select relevant features
features = ['PTS', 'AST', 'REB', 'FG%', '3P%', 'FT%', 'STL', 'BLK', 'TOV', 'PER']
df = df[features].dropna()

# 4. Data Understanding Visuals
df.describe()

# Histograms
df.hist(bins=15, figsize=(14, 10))
plt.suptitle("Feature Distributions", fontsize=16)
plt.tight_layout()
plt.show()

# Boxplots
plt.figure(figsize=(12, 6))
sns.boxplot(data=df)
plt.title("Boxplots of NBA Player Stats")
plt.xticks(rotation=45)
plt.show()

# Correlation Heatmap
plt.figure(figsize=(10, 8))
sns.heatmap(df.corr(), annot=True, cmap="coolwarm")
plt.title("Correlation Heatmap")
plt.show()

# Pairplot (reduced subset)
sns.pairplot(df[['PTS', 'AST', 'REB', 'PER']])
plt.suptitle("Pairwise Feature Relationships", y=1.02)
plt.show()

# 5. Preprocessing
scaler = StandardScaler()
scaled_data = scaler.fit_transform(df)

# 6. PCA for Visualization
pca = PCA(n_components=2)
pca_result = pca.fit_transform(scaled_data)

# 7. K-Means Clustering
kmeans = KMeans(n_clusters=3, random_state=42)
kmeans_labels = kmeans.fit_predict(scaled_data)

# K-Means Visualization
plt.figure(figsize=(8, 6))
plt.scatter(pca_result[:, 0], pca_result[:, 1], c=kmeans_labels, cmap='viridis')
plt.title("K-Means Clustering (PCA Reduced)")
plt.xlabel("PCA 1")
plt.ylabel("PCA 2")
plt.show()

# 8. Agglomerative Clustering & Dendrogram
linkage_matrix = linkage(scaled_data, method='ward')
plt.figure(figsize=(12, 6))
dendrogram(linkage_matrix)
plt.title("Dendrogram - Agglomerative Clustering")
plt.xlabel("Player Index")
plt.ylabel("Euclidean Distance")
plt.show()
